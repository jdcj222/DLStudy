{
  "nbformat": 4,
  "nbformat_minor": 0,
  "metadata": {
    "colab": {
      "name": "Untitled13.ipynb",
      "version": "0.3.2",
      "provenance": [],
      "include_colab_link": true
    },
    "kernelspec": {
      "name": "python3",
      "display_name": "Python 3"
    }
  },
  "cells": [
    {
      "cell_type": "markdown",
      "metadata": {
        "id": "view-in-github",
        "colab_type": "text"
      },
      "source": [
        "<a href=\"https://colab.research.google.com/github/jdcj222/DLStudy/blob/master/Untitled13.ipynb\" target=\"_parent\"><img src=\"https://colab.research.google.com/assets/colab-badge.svg\" alt=\"Open In Colab\"/></a>"
      ]
    },
    {
      "cell_type": "code",
      "metadata": {
        "id": "v7t-WvPZvB7D",
        "colab_type": "code",
        "colab": {
          "base_uri": "https://localhost:8080/",
          "height": 1000
        },
        "outputId": "c1cdc315-ff70-4e1b-c394-d2ee4d515871"
      },
      "source": [
        "#!/usr/bin/env python\n",
        "# -*- coding: utf-8 -*-\n",
        "import numpy as np\n",
        "import matplotlib.pyplot as plt\n",
        "# 검정색으로 채우기\n",
        "i=np.zeros((10,10,4))\n",
        "# 4번째 값은 알파값(1로 채워서 값을 적용하기)\n",
        "i[:,:,3]=1.\n",
        "# 세로로 빨간색 집어 넣기\n",
        "i[:,:,0]=np.array([0,1]*50).reshape((10,10))\n",
        "# 가로로 녹색 집어 넣기\n",
        "i[range(1,10,2),:,1]=1\n",
        "plt.imshow(i, cmap='Greys')\n",
        "plt.show()\n",
        "plt.imsave('a.png',i)\n",
        "ir=plt.imread('a.png')\n",
        "print(ir)"
      ],
      "execution_count": 1,
      "outputs": [
        {
          "output_type": "display_data",
          "data": {
            "image/png": "[encoded data removed]",
            "text/plain": [
              "<Figure size 432x288 with 1 Axes>"
            ]
          },
          "metadata": {
            "tags": []
          }
        },
        {
          "output_type": "stream",
          "text": [
            "[[[0. 0. 0. 1.]\n",
            "  [1. 0. 0. 1.]\n",
            "  [0. 0. 0. 1.]\n",
            "  [1. 0. 0. 1.]\n",
            "  [0. 0. 0. 1.]\n",
            "  [1. 0. 0. 1.]\n",
            "  [0. 0. 0. 1.]\n",
            "  [1. 0. 0. 1.]\n",
            "  [0. 0. 0. 1.]\n",
            "  [1. 0. 0. 1.]]\n",
            "\n",
            " [[0. 1. 0. 1.]\n",
            "  [1. 1. 0. 1.]\n",
            "  [0. 1. 0. 1.]\n",
            "  [1. 1. 0. 1.]\n",
            "  [0. 1. 0. 1.]\n",
            "  [1. 1. 0. 1.]\n",
            "  [0. 1. 0. 1.]\n",
            "  [1. 1. 0. 1.]\n",
            "  [0. 1. 0. 1.]\n",
            "  [1. 1. 0. 1.]]\n",
            "\n",
            " [[0. 0. 0. 1.]\n",
            "  [1. 0. 0. 1.]\n",
            "  [0. 0. 0. 1.]\n",
            "  [1. 0. 0. 1.]\n",
            "  [0. 0. 0. 1.]\n",
            "  [1. 0. 0. 1.]\n",
            "  [0. 0. 0. 1.]\n",
            "  [1. 0. 0. 1.]\n",
            "  [0. 0. 0. 1.]\n",
            "  [1. 0. 0. 1.]]\n",
            "\n",
            " [[0. 1. 0. 1.]\n",
            "  [1. 1. 0. 1.]\n",
            "  [0. 1. 0. 1.]\n",
            "  [1. 1. 0. 1.]\n",
            "  [0. 1. 0. 1.]\n",
            "  [1. 1. 0. 1.]\n",
            "  [0. 1. 0. 1.]\n",
            "  [1. 1. 0. 1.]\n",
            "  [0. 1. 0. 1.]\n",
            "  [1. 1. 0. 1.]]\n",
            "\n",
            " [[0. 0. 0. 1.]\n",
            "  [1. 0. 0. 1.]\n",
            "  [0. 0. 0. 1.]\n",
            "  [1. 0. 0. 1.]\n",
            "  [0. 0. 0. 1.]\n",
            "  [1. 0. 0. 1.]\n",
            "  [0. 0. 0. 1.]\n",
            "  [1. 0. 0. 1.]\n",
            "  [0. 0. 0. 1.]\n",
            "  [1. 0. 0. 1.]]\n",
            "\n",
            " [[0. 1. 0. 1.]\n",
            "  [1. 1. 0. 1.]\n",
            "  [0. 1. 0. 1.]\n",
            "  [1. 1. 0. 1.]\n",
            "  [0. 1. 0. 1.]\n",
            "  [1. 1. 0. 1.]\n",
            "  [0. 1. 0. 1.]\n",
            "  [1. 1. 0. 1.]\n",
            "  [0. 1. 0. 1.]\n",
            "  [1. 1. 0. 1.]]\n",
            "\n",
            " [[0. 0. 0. 1.]\n",
            "  [1. 0. 0. 1.]\n",
            "  [0. 0. 0. 1.]\n",
            "  [1. 0. 0. 1.]\n",
            "  [0. 0. 0. 1.]\n",
            "  [1. 0. 0. 1.]\n",
            "  [0. 0. 0. 1.]\n",
            "  [1. 0. 0. 1.]\n",
            "  [0. 0. 0. 1.]\n",
            "  [1. 0. 0. 1.]]\n",
            "\n",
            " [[0. 1. 0. 1.]\n",
            "  [1. 1. 0. 1.]\n",
            "  [0. 1. 0. 1.]\n",
            "  [1. 1. 0. 1.]\n",
            "  [0. 1. 0. 1.]\n",
            "  [1. 1. 0. 1.]\n",
            "  [0. 1. 0. 1.]\n",
            "  [1. 1. 0. 1.]\n",
            "  [0. 1. 0. 1.]\n",
            "  [1. 1. 0. 1.]]\n",
            "\n",
            " [[0. 0. 0. 1.]\n",
            "  [1. 0. 0. 1.]\n",
            "  [0. 0. 0. 1.]\n",
            "  [1. 0. 0. 1.]\n",
            "  [0. 0. 0. 1.]\n",
            "  [1. 0. 0. 1.]\n",
            "  [0. 0. 0. 1.]\n",
            "  [1. 0. 0. 1.]\n",
            "  [0. 0. 0. 1.]\n",
            "  [1. 0. 0. 1.]]\n",
            "\n",
            " [[0. 1. 0. 1.]\n",
            "  [1. 1. 0. 1.]\n",
            "  [0. 1. 0. 1.]\n",
            "  [1. 1. 0. 1.]\n",
            "  [0. 1. 0. 1.]\n",
            "  [1. 1. 0. 1.]\n",
            "  [0. 1. 0. 1.]\n",
            "  [1. 1. 0. 1.]\n",
            "  [0. 1. 0. 1.]\n",
            "  [1. 1. 0. 1.]]]\n"
          ],
          "name": "stdout"
        }
      ]
    },
    {
      "cell_type": "code",
      "metadata": {
        "id": "RYcMIszYxKCd",
        "colab_type": "code",
        "colab": {
          "base_uri": "https://localhost:8080/",
          "height": 35
        },
        "outputId": "f87876c2-b14f-480c-fc49-b7f890ed5159"
      },
      "source": [
        "!git clone https://github.com/jdcj222/DLStudy.git"
      ],
      "execution_count": 4,
      "outputs": [
        {
          "output_type": "stream",
          "text": [
            "fatal: destination path 'DLStudy' already exists and is not an empty directory.\n"
          ],
          "name": "stdout"
        }
      ]
    },
    {
      "cell_type": "code",
      "metadata": {
        "id": "rlvvRuBy0g1n",
        "colab_type": "code",
        "colab": {
          "base_uri": "https://localhost:8080/",
          "height": 215
        },
        "outputId": "f499af58-125d-49fd-d833-20d1ceddc7f3"
      },
      "source": [
        "!wget https://opencv-python-tutroals.readthedocs.io/en/latest/_static/opencv-logo-white.png"
      ],
      "execution_count": 6,
      "outputs": [
        {
          "output_type": "stream",
          "text": [
            "--2019-09-10 11:00:01--  https://opencv-python-tutroals.readthedocs.io/en/latest/_static/opencv-logo-white.png\n",
            "Resolving opencv-python-tutroals.readthedocs.io (opencv-python-tutroals.readthedocs.io)... 104.208.221.96\n",
            "Connecting to opencv-python-tutroals.readthedocs.io (opencv-python-tutroals.readthedocs.io)|104.208.221.96|:443... connected.\n",
            "HTTP request sent, awaiting response... 200 OK\n",
            "Length: 8099 (7.9K) [image/png]\n",
            "Saving to: ‘opencv-logo-white.png’\n",
            "\n",
            "\ropencv-logo-white.p   0%[                    ]       0  --.-KB/s               \ropencv-logo-white.p 100%[===================>]   7.91K  --.-KB/s    in 0s      \n",
            "\n",
            "2019-09-10 11:00:01 (1.10 GB/s) - ‘opencv-logo-white.png’ saved [8099/8099]\n",
            "\n"
          ],
          "name": "stdout"
        }
      ]
    },
    {
      "cell_type": "code",
      "metadata": {
        "id": "IIgU2xbd1aPQ",
        "colab_type": "code",
        "colab": {
          "base_uri": "https://localhost:8080/",
          "height": 238
        },
        "outputId": "f8e72a58-5a30-4139-a2d3-19259362fba0"
      },
      "source": [
        "import cv2\n",
        "import numpy as np\n",
        "from matplotlib import pyplot as plt\n",
        "\n",
        "img = cv2.imread('opencv-logo-white.png')\n",
        "\n",
        "kernel = np.ones((5,5), np.float32)/25\n",
        "dst = cv2.filter2D(img, -1, kernel)\n",
        "plt.subplot(121), plt.imshow(img), plt.title('Original')\n",
        "plt.xticks([]), plt.yticks([])\n",
        "plt.subplot(122), plt.imshow(dst), plt.title('Averaging')\n",
        "plt.xticks([]), plt.yticks([])\n",
        "plt.show()"
      ],
      "execution_count": 14,
      "outputs": [
        {
          "output_type": "display_data",
          "data": {
            "image/png": "[encoded data removed]",
            "text/plain": [
              "<Figure size 432x288 with 2 Axes>"
            ]
          },
          "metadata": {
            "tags": []
          }
        }
      ]
    }
  ]
}