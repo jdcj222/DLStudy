{
  "nbformat": 4,
  "nbformat_minor": 0,
  "metadata": {
    "colab": {
      "name": "Untitled13.ipynb",
      "version": "0.3.2",
      "provenance": [],
      "include_colab_link": true
    },
    "kernelspec": {
      "name": "python3",
      "display_name": "Python 3"
    }
  },
  "cells": [
    {
      "cell_type": "markdown",
      "metadata": {
        "id": "view-in-github",
        "colab_type": "text"
      },
      "source": [
        "<a href=\"https://colab.research.google.com/github/jdcj222/DLStudy/blob/master/Untitled13.ipynb\" target=\"_parent\"><img src=\"https://colab.research.google.com/assets/colab-badge.svg\" alt=\"Open In Colab\"/></a>"
      ]
    },
    {
      "cell_type": "code",
      "metadata": {
        "id": "v7t-WvPZvB7D",
        "colab_type": "code",
        "colab": {
          "base_uri": "https://localhost:8080/",
          "height": 1000
        },
        "outputId": "c1cdc315-ff70-4e1b-c394-d2ee4d515871"
      },
      "source": [
        "#!/usr/bin/env python\n",
        "# -*- coding: utf-8 -*-\n",
        "import numpy as np\n",
        "import matplotlib.pyplot as plt\n",
        "# 검정색으로 채우기\n",
        "i=np.zeros((10,10,4))\n",
        "# 4번째 값은 알파값(1로 채워서 값을 적용하기)\n",
        "i[:,:,3]=1.\n",
        "# 세로로 빨간색 집어 넣기\n",
        "i[:,:,0]=np.array([0,1]*50).reshape((10,10))\n",
        "# 가로로 녹색 집어 넣기\n",
        "i[range(1,10,2),:,1]=1\n",
        "plt.imshow(i, cmap='Greys')\n",
        "plt.show()\n",
        "plt.imsave('a.png',i)\n",
        "ir=plt.imread('a.png')\n",
        "print(ir)"
      ],
      "execution_count": 1,
      "outputs": [
        {
          "output_type": "display_data",
          "data": {
            "image/png": "[encoded data removed]",
            "text/plain": [
              "<Figure size 432x288 with 1 Axes>"
            ]
          },
          "metadata": {
            "tags": []
          }
        },
        {
          "output_type": "stream",
          "text": [
            "[[[0. 0. 0. 1.]\n",
            "  [1. 0. 0. 1.]\n",
            "  [0. 0. 0. 1.]\n",
            "  [1. 0. 0. 1.]\n",
            "  [0. 0. 0. 1.]\n",
            "  [1. 0. 0. 1.]\n",
            "  [0. 0. 0. 1.]\n",
            "  [1. 0. 0. 1.]\n",
            "  [0. 0. 0. 1.]\n",
            "  [1. 0. 0. 1.]]\n",
            "\n",
            " [[0. 1. 0. 1.]\n",
            "  [1. 1. 0. 1.]\n",
            "  [0. 1. 0. 1.]\n",
            "  [1. 1. 0. 1.]\n",
            "  [0. 1. 0. 1.]\n",
            "  [1. 1. 0. 1.]\n",
            "  [0. 1. 0. 1.]\n",
            "  [1. 1. 0. 1.]\n",
            "  [0. 1. 0. 1.]\n",
            "  [1. 1. 0. 1.]]\n",
            "\n",
            " [[0. 0. 0. 1.]\n",
            "  [1. 0. 0. 1.]\n",
            "  [0. 0. 0. 1.]\n",
            "  [1. 0. 0. 1.]\n",
            "  [0. 0. 0. 1.]\n",
            "  [1. 0. 0. 1.]\n",
            "  [0. 0. 0. 1.]\n",
            "  [1. 0. 0. 1.]\n",
            "  [0. 0. 0. 1.]\n",
            "  [1. 0. 0. 1.]]\n",
            "\n",
            " [[0. 1. 0. 1.]\n",
            "  [1. 1. 0. 1.]\n",
            "  [0. 1. 0. 1.]\n",
            "  [1. 1. 0. 1.]\n",
            "  [0. 1. 0. 1.]\n",
            "  [1. 1. 0. 1.]\n",
            "  [0. 1. 0. 1.]\n",
            "  [1. 1. 0. 1.]\n",
            "  [0. 1. 0. 1.]\n",
            "  [1. 1. 0. 1.]]\n",
            "\n",
            " [[0. 0. 0. 1.]\n",
            "  [1. 0. 0. 1.]\n",
            "  [0. 0. 0. 1.]\n",
            "  [1. 0. 0. 1.]\n",
            "  [0. 0. 0. 1.]\n",
            "  [1. 0. 0. 1.]\n",
            "  [0. 0. 0. 1.]\n",
            "  [1. 0. 0. 1.]\n",
            "  [0. 0. 0. 1.]\n",
            "  [1. 0. 0. 1.]]\n",
            "\n",
            " [[0. 1. 0. 1.]\n",
            "  [1. 1. 0. 1.]\n",
            "  [0. 1. 0. 1.]\n",
            "  [1. 1. 0. 1.]\n",
            "  [0. 1. 0. 1.]\n",
            "  [1. 1. 0. 1.]\n",
            "  [0. 1. 0. 1.]\n",
            "  [1. 1. 0. 1.]\n",
            "  [0. 1. 0. 1.]\n",
            "  [1. 1. 0. 1.]]\n",
            "\n",
            " [[0. 0. 0. 1.]\n",
            "  [1. 0. 0. 1.]\n",
            "  [0. 0. 0. 1.]\n",
            "  [1. 0. 0. 1.]\n",
            "  [0. 0. 0. 1.]\n",
            "  [1. 0. 0. 1.]\n",
            "  [0. 0. 0. 1.]\n",
            "  [1. 0. 0. 1.]\n",
            "  [0. 0. 0. 1.]\n",
            "  [1. 0. 0. 1.]]\n",
            "\n",
            " [[0. 1. 0. 1.]\n",
            "  [1. 1. 0. 1.]\n",
            "  [0. 1. 0. 1.]\n",
            "  [1. 1. 0. 1.]\n",
            "  [0. 1. 0. 1.]\n",
            "  [1. 1. 0. 1.]\n",
            "  [0. 1. 0. 1.]\n",
            "  [1. 1. 0. 1.]\n",
            "  [0. 1. 0. 1.]\n",
            "  [1. 1. 0. 1.]]\n",
            "\n",
            " [[0. 0. 0. 1.]\n",
            "  [1. 0. 0. 1.]\n",
            "  [0. 0. 0. 1.]\n",
            "  [1. 0. 0. 1.]\n",
            "  [0. 0. 0. 1.]\n",
            "  [1. 0. 0. 1.]\n",
            "  [0. 0. 0. 1.]\n",
            "  [1. 0. 0. 1.]\n",
            "  [0. 0. 0. 1.]\n",
            "  [1. 0. 0. 1.]]\n",
            "\n",
            " [[0. 1. 0. 1.]\n",
            "  [1. 1. 0. 1.]\n",
            "  [0. 1. 0. 1.]\n",
            "  [1. 1. 0. 1.]\n",
            "  [0. 1. 0. 1.]\n",
            "  [1. 1. 0. 1.]\n",
            "  [0. 1. 0. 1.]\n",
            "  [1. 1. 0. 1.]\n",
            "  [0. 1. 0. 1.]\n",
            "  [1. 1. 0. 1.]]]\n"
          ],
          "name": "stdout"
        }
      ]
    },
    {
      "cell_type": "code",
      "metadata": {
        "id": "RYcMIszYxKCd",
        "colab_type": "code",
        "colab": {
          "base_uri": "https://localhost:8080/",
          "height": 35
        },
        "outputId": "f87876c2-b14f-480c-fc49-b7f890ed5159"
      },
      "source": [
        "!git clone https://github.com/jdcj222/DLStudy.git"
      ],
      "execution_count": 4,
      "outputs": [
        {
          "output_type": "stream",
          "text": [
            "fatal: destination path 'DLStudy' already exists and is not an empty directory.\n"
          ],
          "name": "stdout"
        }
      ]
    },
    {
      "cell_type": "code",
      "metadata": {
        "id": "vlMJJdtVxcTe",
        "colab_type": "code",
        "colab": {
          "base_uri": "https://localhost:8080/",
          "height": 136
        },
        "outputId": "f7f9b89a-0388-4028-c9f7-eca008ce4dbe"
      },
      "source": [
        "\n"
      ],
      "execution_count": 3,
      "outputs": [
        {
          "output_type": "error",
          "ename": "SyntaxError",
          "evalue": "ignored",
          "traceback": [
            "\u001b[0;36m  File \u001b[0;32m\"<ipython-input-3-1b828f5cdb1c>\"\u001b[0;36m, line \u001b[0;32m1\u001b[0m\n\u001b[0;31m    echo \"# DLStudy\" >> README.md\u001b[0m\n\u001b[0m                   ^\u001b[0m\n\u001b[0;31mSyntaxError\u001b[0m\u001b[0;31m:\u001b[0m invalid syntax\n"
          ]
        }
      ]
    }
  ]
}